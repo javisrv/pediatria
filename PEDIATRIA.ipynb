{
 "cells": [
  {
   "cell_type": "markdown",
   "id": "275a1a65-88dd-441b-8dd9-bfaa085c08b8",
   "metadata": {},
   "source": [
    "- PENDIENTES:\n",
    "    - Chequear antecedentes\n",
    "    - Chequear cantidad de fr (que den las sumas)\n",
    "    - Calcular TAL"
   ]
  },
  {
   "cell_type": "code",
   "execution_count": 691,
   "id": "941b3f12-3afb-446b-95fd-cda924f45934",
   "metadata": {},
   "outputs": [],
   "source": [
    "import pandas as pd\n",
    "import numpy as np\n",
    "import matplotlib.pyplot as plt\n",
    "import seaborn as sns\n",
    "\n",
    "import warnings \n",
    "warnings.filterwarnings('ignore')"
   ]
  },
  {
   "cell_type": "markdown",
   "id": "50b31de8-475b-4c2e-b816-eee59b8aa638",
   "metadata": {},
   "source": [
    "# 1- Cargando la base de datos"
   ]
  },
  {
   "cell_type": "code",
   "execution_count": 692,
   "id": "f980a7c8-8e0d-4ac5-9f53-519f3e0b02f3",
   "metadata": {},
   "outputs": [],
   "source": [
    "df = pd.read_excel(\"BASE.xlsx\")"
   ]
  },
  {
   "cell_type": "code",
   "execution_count": 693,
   "id": "83222e7f-efd5-4d90-8414-6cfd5b17098e",
   "metadata": {},
   "outputs": [
    {
     "data": {
      "text/html": [
       "<div>\n",
       "<style scoped>\n",
       "    .dataframe tbody tr th:only-of-type {\n",
       "        vertical-align: middle;\n",
       "    }\n",
       "\n",
       "    .dataframe tbody tr th {\n",
       "        vertical-align: top;\n",
       "    }\n",
       "\n",
       "    .dataframe thead th {\n",
       "        text-align: right;\n",
       "    }\n",
       "</style>\n",
       "<table border=\"1\" class=\"dataframe\">\n",
       "  <thead>\n",
       "    <tr style=\"text-align: right;\">\n",
       "      <th></th>\n",
       "      <th>-</th>\n",
       "      <th>NOMBRE</th>\n",
       "      <th>EDAD</th>\n",
       "      <th>HC</th>\n",
       "      <th>GENERO</th>\n",
       "      <th>DIAGNOSTICO</th>\n",
       "      <th>CODIGO_DIAGNOSTICO</th>\n",
       "      <th>ANTECEDENTES</th>\n",
       "      <th>NUMERO_ANTECEDENTES</th>\n",
       "      <th>ANTECEDENTE RESPIRATORIO      NO: 0 / SI: 1</th>\n",
       "      <th>...</th>\n",
       "      <th>EDAD MATERNA</th>\n",
       "      <th>NIVEL EDUCATIVO MADRE</th>\n",
       "      <th>NIVEL EDUCATIVO PADRE                                  (SI NO HAY PADRE COLOCAR 99999)</th>\n",
       "      <th>OCUPACION MADRE</th>\n",
       "      <th>OCUPACION PADRE                       (SI NO HAY PADRE COLOCAR 99999)</th>\n",
       "      <th>MADRE O PADRE TBQ 0: NO / 1: SI</th>\n",
       "      <th>AMBIENTE EPIDEMIOLÓGICO   0: NO / 1: SI</th>\n",
       "      <th>CUAL?</th>\n",
       "      <th>OBSERVACIONES</th>\n",
       "      <th>Unnamed: 51</th>\n",
       "    </tr>\n",
       "  </thead>\n",
       "  <tbody>\n",
       "    <tr>\n",
       "      <th>0</th>\n",
       "      <td>0</td>\n",
       "      <td>ABALOS, Ciro</td>\n",
       "      <td>99999</td>\n",
       "      <td>1486980</td>\n",
       "      <td>99999</td>\n",
       "      <td>99999</td>\n",
       "      <td>99999</td>\n",
       "      <td>99999</td>\n",
       "      <td>99999</td>\n",
       "      <td>99999</td>\n",
       "      <td>...</td>\n",
       "      <td>99999</td>\n",
       "      <td>99999</td>\n",
       "      <td>99999</td>\n",
       "      <td>99999</td>\n",
       "      <td>99999</td>\n",
       "      <td>99999</td>\n",
       "      <td>99999</td>\n",
       "      <td>99999</td>\n",
       "      <td>Ingreso previo  a UTIP</td>\n",
       "      <td>NaN</td>\n",
       "    </tr>\n",
       "    <tr>\n",
       "      <th>1</th>\n",
       "      <td>0</td>\n",
       "      <td>ALBERTTI, Estefania</td>\n",
       "      <td>99999</td>\n",
       "      <td>1481528</td>\n",
       "      <td>99999</td>\n",
       "      <td>99999</td>\n",
       "      <td>99999</td>\n",
       "      <td>99999</td>\n",
       "      <td>99999</td>\n",
       "      <td>99999</td>\n",
       "      <td>...</td>\n",
       "      <td>99999</td>\n",
       "      <td>99999</td>\n",
       "      <td>99999</td>\n",
       "      <td>99999</td>\n",
       "      <td>99999</td>\n",
       "      <td>99999</td>\n",
       "      <td>99999</td>\n",
       "      <td>99999</td>\n",
       "      <td>Ingreso previo  a UTIP</td>\n",
       "      <td>NaN</td>\n",
       "    </tr>\n",
       "  </tbody>\n",
       "</table>\n",
       "<p>2 rows × 52 columns</p>\n",
       "</div>"
      ],
      "text/plain": [
       "   -               NOMBRE   EDAD       HC  GENERO DIAGNOSTICO  \\\n",
       "0  0         ABALOS, Ciro  99999  1486980   99999       99999   \n",
       "1  0  ALBERTTI, Estefania  99999  1481528   99999       99999   \n",
       "\n",
       "   CODIGO_DIAGNOSTICO ANTECEDENTES  NUMERO_ANTECEDENTES  \\\n",
       "0               99999        99999                99999   \n",
       "1               99999        99999                99999   \n",
       "\n",
       "   ANTECEDENTE RESPIRATORIO      NO: 0 / SI: 1  ...  EDAD MATERNA  \\\n",
       "0                                        99999  ...         99999   \n",
       "1                                        99999  ...         99999   \n",
       "\n",
       "   NIVEL EDUCATIVO MADRE  \\\n",
       "0                  99999   \n",
       "1                  99999   \n",
       "\n",
       "   NIVEL EDUCATIVO PADRE                                  (SI NO HAY PADRE COLOCAR 99999)  \\\n",
       "0                                              99999                                        \n",
       "1                                              99999                                        \n",
       "\n",
       "   OCUPACION MADRE  \\\n",
       "0            99999   \n",
       "1            99999   \n",
       "\n",
       "   OCUPACION PADRE                       (SI NO HAY PADRE COLOCAR 99999)  \\\n",
       "0                                              99999                       \n",
       "1                                              99999                       \n",
       "\n",
       "   MADRE O PADRE TBQ 0: NO / 1: SI AMBIENTE EPIDEMIOLÓGICO   0: NO / 1: SI  \\\n",
       "0                            99999                                   99999   \n",
       "1                            99999                                   99999   \n",
       "\n",
       "   CUAL?           OBSERVACIONES  Unnamed: 51  \n",
       "0  99999  Ingreso previo  a UTIP          NaN  \n",
       "1  99999  Ingreso previo  a UTIP          NaN  \n",
       "\n",
       "[2 rows x 52 columns]"
      ]
     },
     "execution_count": 693,
     "metadata": {},
     "output_type": "execute_result"
    }
   ],
   "source": [
    "df.head(2)"
   ]
  },
  {
   "cell_type": "code",
   "execution_count": 694,
   "id": "e86791b5-b5d6-4e91-9a4b-ad9f5e778fd6",
   "metadata": {},
   "outputs": [
    {
     "data": {
      "text/plain": [
       "Index(['ANTECEDENTE RESPIRATORIO      NO: 0 / SI: 1',\n",
       "       'ANTECEDENTE CARDIOVASCULAR NO: 0 / SI: 1',\n",
       "       'ANTECEDENTE NEUROLOGICONO: 0 / SI: 1',\n",
       "       'ANTECEDENTE METABOLICO NO: 0 / SI: 1',\n",
       "       'ANTECEDENTE ONCOLOGICO  NO: 0 / SI: 1',\n",
       "       'ANTECEDENTE GENETICO       NO: 0 / SI: 1'],\n",
       "      dtype='object')"
      ]
     },
     "execution_count": 694,
     "metadata": {},
     "output_type": "execute_result"
    }
   ],
   "source": [
    "df.columns[9:15]"
   ]
  },
  {
   "cell_type": "code",
   "execution_count": 695,
   "id": "0ef27765-9479-40e2-ac8a-c0a2263ab0af",
   "metadata": {},
   "outputs": [],
   "source": [
    "df.rename(columns = {\"ANTECEDENTE RESPIRATORIO      NO: 0 / SI: 1\": \"ANTECEDENTE_RESPIRATORIO\",\n",
    "                     \"ANTECEDENTE CARDIOVASCULAR NO: 0 / SI: 1\": \"ANTECEDENTE_CARDIOVASCULAR\",\n",
    "                     \"ANTECEDENTE NEUROLOGICONO: 0 / SI: 1\": \"ANTECEDENTE_NEUROLOGICONO\",\n",
    "                     \"ANTECEDENTE METABOLICO NO: 0 / SI: 1\": \"ANTECEDENTE_METABOLICO\",\n",
    "                     \"ANTECEDENTE ONCOLOGICO  NO: 0 / SI: 1\": \"ANTECEDENTE_ONCOLOGICO\",\n",
    "                     \"ANTECEDENTE GENETICO       NO: 0 / SI: 1\": \"ANTECEDENTE_GENETICO\",\n",
    "                     \"OTROS            NO: 0 / SI: 1\": \"OTROS\"},\n",
    "                      inplace = True) \n",
    "\n",
    "df.rename(columns = {\"FACTORES DE RIESGO          (ANOTAR CUAL)\": \"FACTORES_RIESGO\"}, inplace = True)\n",
    "\n",
    "df.rename(columns = {\"TIPO DE EGRESO  VIVO: 0 / MUERTO: 1\": \"TIPO_EGRESO\",\n",
    "                    \"LOCACIÓN DE EGRESO\": \"LOCACION_EGRESO\"}, inplace = True)\n",
    "\n",
    "df.rename(columns = {\"RE-INTERNACIONES NO: 0 / SI: 1\": \"REINTERNACIONES\"}, inplace = True)\n",
    "\n",
    "df.rename(columns = {\"VMi                       NO: 0 / SI: 1\": \"VMi\"}, inplace = True)\n",
    "\n",
    "df.rename(columns = {\"FECHA DE INGRESO HOSPITALARIO dd/mm/aaaa\": \"FECHA_INGRESO_H\",\n",
    "                     \"FECHA INGRESO A SALA DE PEDIATRIA dd/mm/aaaa\": \"FECHA_INGRESO_P\",\n",
    "                     \"FECHA DE ALTA DE SALA DE PEDIATRÍA dd/mm/aaaa\": \"FECHA_ALTA_P\",\n",
    "                     \"FECHA ALTA HOSPITALARIA dd/mm/aaaa\": \"FECHA_ALTA_H\",\n",
    "                     \"DÍAS DE OXIGENOTERAPIA\": \"DIAS_O2\"}, inplace = True)"
   ]
  },
  {
   "cell_type": "code",
   "execution_count": 696,
   "id": "149aca93-723b-40c9-a40f-08e7465535f5",
   "metadata": {},
   "outputs": [
    {
     "data": {
      "text/plain": [
       "-                                                                                           int64\n",
       "NOMBRE                                                                                     object\n",
       "EDAD                                                                                        int64\n",
       "HC                                                                                         object\n",
       "GENERO                                                                                      int64\n",
       "DIAGNOSTICO                                                                                object\n",
       "CODIGO_DIAGNOSTICO                                                                          int64\n",
       "ANTECEDENTES                                                                               object\n",
       "NUMERO_ANTECEDENTES                                                                         int64\n",
       "ANTECEDENTE_RESPIRATORIO                                                                    int64\n",
       "ANTECEDENTE_CARDIOVASCULAR                                                                  int64\n",
       "ANTECEDENTE_NEUROLOGICONO                                                                   int64\n",
       "ANTECEDENTE_METABOLICO                                                                      int64\n",
       "ANTECEDENTE_ONCOLOGICO                                                                      int64\n",
       "ANTECEDENTE_GENETICO                                                                        int64\n",
       "OTROS                                                                                       int64\n",
       "FACTORES_RIESGO                                                                            object\n",
       "CANTIDAD FACTORES DE RIESGO                                                                 int64\n",
       "< 3 MESES NO: 0 / SI: 1                                                                   float64\n",
       "RNPT       NO: 0 / SI: 1                                                                  float64\n",
       "BPEG       NO: 0 / SI: 1                                                                  float64\n",
       "DESNUTRIDO            NO: 0 / SI: 1                                                       float64\n",
       "CARDIOPATA     NO: 0 / SI: 1                                                              float64\n",
       "TAL AL INGRESO HOSPITALARIO                                                                 int64\n",
       "VACUNAS                                            0: INCOMPLETAS 1: COMPLETAS              int64\n",
       "NEUMOCOCO COMPLETO                   0: NO / 1: SI                                          int64\n",
       "FECHA_INGRESO_H                                                                            object\n",
       "FECHA_INGRESO_P                                                                            object\n",
       "FECHA_ALTA_P                                                                               object\n",
       "ATELECTASIA                   NO: 0 / SI: 1                                                 int64\n",
       "TIPO_EGRESO                                                                                 int64\n",
       "LOCACION_EGRESO                                                                             int64\n",
       "VMi                                                                                         int64\n",
       "FECHA_ALTA_H                                                                               object\n",
       "DIAS_O2                                                                                     int64\n",
       "REINTERNACIONES                                                                             int64\n",
       "NUMERO DE          RE-INTERNACIONES                                                         int64\n",
       "Unnamed: 37                                                                               float64\n",
       "Unnamed: 38                                                                               float64\n",
       "Unnamed: 39                                                                               float64\n",
       "FECHA            INGRESO                    REINTERNACION                                  object\n",
       "FECHA            EGRESO                    REINTERNACION                                   object\n",
       "EDAD MATERNA                                                                                int64\n",
       "NIVEL EDUCATIVO MADRE                                                                       int64\n",
       "NIVEL EDUCATIVO PADRE                                  (SI NO HAY PADRE COLOCAR 99999)      int64\n",
       "OCUPACION MADRE                                                                            object\n",
       "OCUPACION PADRE                       (SI NO HAY PADRE COLOCAR 99999)                      object\n",
       "MADRE O PADRE TBQ 0: NO / 1: SI                                                             int64\n",
       "AMBIENTE EPIDEMIOLÓGICO   0: NO / 1: SI                                                     int64\n",
       "CUAL?                                                                                      object\n",
       "OBSERVACIONES                                                                              object\n",
       "Unnamed: 51                                                                                object\n",
       "dtype: object"
      ]
     },
     "execution_count": 696,
     "metadata": {},
     "output_type": "execute_result"
    }
   ],
   "source": [
    "df.dtypes"
   ]
  },
  {
   "cell_type": "code",
   "execution_count": 697,
   "id": "5a7b95bc-4132-4dfc-b785-48ac08ae10be",
   "metadata": {},
   "outputs": [
    {
     "data": {
      "text/html": [
       "<div>\n",
       "<style scoped>\n",
       "    .dataframe tbody tr th:only-of-type {\n",
       "        vertical-align: middle;\n",
       "    }\n",
       "\n",
       "    .dataframe tbody tr th {\n",
       "        vertical-align: top;\n",
       "    }\n",
       "\n",
       "    .dataframe thead th {\n",
       "        text-align: right;\n",
       "    }\n",
       "</style>\n",
       "<table border=\"1\" class=\"dataframe\">\n",
       "  <thead>\n",
       "    <tr style=\"text-align: right;\">\n",
       "      <th></th>\n",
       "      <th>-</th>\n",
       "      <th>NOMBRE</th>\n",
       "      <th>EDAD</th>\n",
       "      <th>HC</th>\n",
       "      <th>GENERO</th>\n",
       "      <th>DIAGNOSTICO</th>\n",
       "      <th>CODIGO_DIAGNOSTICO</th>\n",
       "      <th>ANTECEDENTES</th>\n",
       "      <th>NUMERO_ANTECEDENTES</th>\n",
       "      <th>ANTECEDENTE_RESPIRATORIO</th>\n",
       "      <th>...</th>\n",
       "      <th>EDAD MATERNA</th>\n",
       "      <th>NIVEL EDUCATIVO MADRE</th>\n",
       "      <th>NIVEL EDUCATIVO PADRE                                  (SI NO HAY PADRE COLOCAR 99999)</th>\n",
       "      <th>OCUPACION MADRE</th>\n",
       "      <th>OCUPACION PADRE                       (SI NO HAY PADRE COLOCAR 99999)</th>\n",
       "      <th>MADRE O PADRE TBQ 0: NO / 1: SI</th>\n",
       "      <th>AMBIENTE EPIDEMIOLÓGICO   0: NO / 1: SI</th>\n",
       "      <th>CUAL?</th>\n",
       "      <th>OBSERVACIONES</th>\n",
       "      <th>Unnamed: 51</th>\n",
       "    </tr>\n",
       "  </thead>\n",
       "  <tbody>\n",
       "    <tr>\n",
       "      <th>2</th>\n",
       "      <td>1</td>\n",
       "      <td>ACEVEDO, Noah</td>\n",
       "      <td>1</td>\n",
       "      <td>1484441</td>\n",
       "      <td>1</td>\n",
       "      <td>BQL</td>\n",
       "      <td>1</td>\n",
       "      <td>NO</td>\n",
       "      <td>0</td>\n",
       "      <td>0</td>\n",
       "      <td>...</td>\n",
       "      <td>39</td>\n",
       "      <td>1</td>\n",
       "      <td>3</td>\n",
       "      <td>AMA DE CASA</td>\n",
       "      <td>EMPLEADO</td>\n",
       "      <td>0</td>\n",
       "      <td>1</td>\n",
       "      <td>88888</td>\n",
       "      <td>-</td>\n",
       "      <td>NaN</td>\n",
       "    </tr>\n",
       "    <tr>\n",
       "      <th>3</th>\n",
       "      <td>1</td>\n",
       "      <td>ACHAVAL, Pilar Franchesca</td>\n",
       "      <td>0</td>\n",
       "      <td>1490080</td>\n",
       "      <td>0</td>\n",
       "      <td>BQL</td>\n",
       "      <td>1</td>\n",
       "      <td>NO</td>\n",
       "      <td>0</td>\n",
       "      <td>0</td>\n",
       "      <td>...</td>\n",
       "      <td>88888</td>\n",
       "      <td>88888</td>\n",
       "      <td>88888</td>\n",
       "      <td>88888</td>\n",
       "      <td>88888</td>\n",
       "      <td>88888</td>\n",
       "      <td>88888</td>\n",
       "      <td>88888</td>\n",
       "      <td>-</td>\n",
       "      <td>NaN</td>\n",
       "    </tr>\n",
       "    <tr>\n",
       "      <th>4</th>\n",
       "      <td>1</td>\n",
       "      <td>ACOSTA, Erik</td>\n",
       "      <td>3</td>\n",
       "      <td>1494868</td>\n",
       "      <td>1</td>\n",
       "      <td>IRAB</td>\n",
       "      <td>0</td>\n",
       "      <td>SBO AMBULATORIO</td>\n",
       "      <td>1</td>\n",
       "      <td>1</td>\n",
       "      <td>...</td>\n",
       "      <td>34</td>\n",
       "      <td>4</td>\n",
       "      <td>3</td>\n",
       "      <td>AMA DE CASA</td>\n",
       "      <td>EMPLEADO</td>\n",
       "      <td>0</td>\n",
       "      <td>1</td>\n",
       "      <td>88888</td>\n",
       "      <td>-</td>\n",
       "      <td>NaN</td>\n",
       "    </tr>\n",
       "    <tr>\n",
       "      <th>6</th>\n",
       "      <td>1</td>\n",
       "      <td>ACUÑA GOMEZ, Federico Gael</td>\n",
       "      <td>3</td>\n",
       "      <td>1492129</td>\n",
       "      <td>1</td>\n",
       "      <td>NMN</td>\n",
       "      <td>2</td>\n",
       "      <td>SBO AMBULATORIO</td>\n",
       "      <td>1</td>\n",
       "      <td>1</td>\n",
       "      <td>...</td>\n",
       "      <td>36</td>\n",
       "      <td>3</td>\n",
       "      <td>4</td>\n",
       "      <td>EMPLEADA</td>\n",
       "      <td>EMPLEADO</td>\n",
       "      <td>0</td>\n",
       "      <td>1</td>\n",
       "      <td>88888</td>\n",
       "      <td>-</td>\n",
       "      <td>NaN</td>\n",
       "    </tr>\n",
       "    <tr>\n",
       "      <th>7</th>\n",
       "      <td>1</td>\n",
       "      <td>ACUÑA ROJAS, Gael</td>\n",
       "      <td>3</td>\n",
       "      <td>1460482</td>\n",
       "      <td>1</td>\n",
       "      <td>IRAB</td>\n",
       "      <td>0</td>\n",
       "      <td>SBO AMBULATORIO</td>\n",
       "      <td>1</td>\n",
       "      <td>1</td>\n",
       "      <td>...</td>\n",
       "      <td>27</td>\n",
       "      <td>2</td>\n",
       "      <td>4</td>\n",
       "      <td>EMPLEADA</td>\n",
       "      <td>OFICIO</td>\n",
       "      <td>0</td>\n",
       "      <td>1</td>\n",
       "      <td>88888</td>\n",
       "      <td>-</td>\n",
       "      <td>NaN</td>\n",
       "    </tr>\n",
       "  </tbody>\n",
       "</table>\n",
       "<p>5 rows × 52 columns</p>\n",
       "</div>"
      ],
      "text/plain": [
       "   -                      NOMBRE  EDAD       HC  GENERO DIAGNOSTICO  \\\n",
       "2  1               ACEVEDO, Noah     1  1484441       1         BQL   \n",
       "3  1   ACHAVAL, Pilar Franchesca     0  1490080       0         BQL   \n",
       "4  1                ACOSTA, Erik     3  1494868       1        IRAB   \n",
       "6  1  ACUÑA GOMEZ, Federico Gael     3  1492129       1         NMN   \n",
       "7  1           ACUÑA ROJAS, Gael     3  1460482       1        IRAB   \n",
       "\n",
       "   CODIGO_DIAGNOSTICO     ANTECEDENTES  NUMERO_ANTECEDENTES  \\\n",
       "2                   1               NO                    0   \n",
       "3                   1               NO                    0   \n",
       "4                   0  SBO AMBULATORIO                    1   \n",
       "6                   2  SBO AMBULATORIO                    1   \n",
       "7                   0  SBO AMBULATORIO                    1   \n",
       "\n",
       "   ANTECEDENTE_RESPIRATORIO  ...  EDAD MATERNA  NIVEL EDUCATIVO MADRE  \\\n",
       "2                         0  ...            39                      1   \n",
       "3                         0  ...         88888                  88888   \n",
       "4                         1  ...            34                      4   \n",
       "6                         1  ...            36                      3   \n",
       "7                         1  ...            27                      2   \n",
       "\n",
       "   NIVEL EDUCATIVO PADRE                                  (SI NO HAY PADRE COLOCAR 99999)  \\\n",
       "2                                                  3                                        \n",
       "3                                              88888                                        \n",
       "4                                                  3                                        \n",
       "6                                                  4                                        \n",
       "7                                                  4                                        \n",
       "\n",
       "   OCUPACION MADRE  \\\n",
       "2      AMA DE CASA   \n",
       "3            88888   \n",
       "4      AMA DE CASA   \n",
       "6         EMPLEADA   \n",
       "7         EMPLEADA   \n",
       "\n",
       "   OCUPACION PADRE                       (SI NO HAY PADRE COLOCAR 99999)  \\\n",
       "2                                           EMPLEADO                       \n",
       "3                                              88888                       \n",
       "4                                           EMPLEADO                       \n",
       "6                                           EMPLEADO                       \n",
       "7                                             OFICIO                       \n",
       "\n",
       "   MADRE O PADRE TBQ 0: NO / 1: SI AMBIENTE EPIDEMIOLÓGICO   0: NO / 1: SI  \\\n",
       "2                                0                                       1   \n",
       "3                            88888                                   88888   \n",
       "4                                0                                       1   \n",
       "6                                0                                       1   \n",
       "7                                0                                       1   \n",
       "\n",
       "   CUAL?  OBSERVACIONES  Unnamed: 51  \n",
       "2  88888              -          NaN  \n",
       "3  88888              -          NaN  \n",
       "4  88888              -          NaN  \n",
       "6  88888              -          NaN  \n",
       "7  88888              -          NaN  \n",
       "\n",
       "[5 rows x 52 columns]"
      ]
     },
     "execution_count": 697,
     "metadata": {},
     "output_type": "execute_result"
    }
   ],
   "source": [
    "df_CI = df[df[\"-\"] == 1]\n",
    "df_CI.head()"
   ]
  },
  {
   "cell_type": "code",
   "execution_count": 698,
   "id": "181d2f7e-cc6b-430b-9c75-a2c50b22777a",
   "metadata": {},
   "outputs": [
    {
     "name": "stdout",
     "output_type": "stream",
     "text": [
      "Total de pacientes: 564\n",
      "Cumplen CI: 317\n",
      "Representa el 56.21% de la muestra.\n"
     ]
    }
   ],
   "source": [
    "print(\"Total de pacientes:\", df.shape[0])\n",
    "print(\"Cumplen CI:\", df_CI.shape[0])\n",
    "print(f\"Representa el {round(df_CI.shape[0] / df.shape[0]  * 100 , 2)}% de la muestra.\")"
   ]
  },
  {
   "cell_type": "markdown",
   "id": "7594920f-00b8-4572-b93e-36bc087cd0e3",
   "metadata": {},
   "source": [
    "# 1- EDAD"
   ]
  },
  {
   "cell_type": "code",
   "execution_count": 699,
   "id": "f1f470d2-621b-4f09-b96d-7a31be62853f",
   "metadata": {},
   "outputs": [
    {
     "name": "stdout",
     "output_type": "stream",
     "text": [
      "Distribución de las categorías por edad:\n",
      "1: < 1 MES\n",
      "2:>= 1 MES o < 6 MESES \n",
      "3:>= 6 MES o < 12 MESES\n",
      "0:<= 24 MESES\n",
      "\n",
      "\n"
     ]
    },
    {
     "data": {
      "text/plain": [
       "0     15\n",
       "1    152\n",
       "2     87\n",
       "3     63\n",
       "Name: EDAD, dtype: int64"
      ]
     },
     "metadata": {},
     "output_type": "display_data"
    },
    {
     "name": "stdout",
     "output_type": "stream",
     "text": [
      "------------------\n"
     ]
    },
    {
     "data": {
      "text/plain": [
       "0     4.73\n",
       "1    47.95\n",
       "2    27.44\n",
       "3    19.87\n",
       "Name: EDAD, dtype: float64"
      ]
     },
     "execution_count": 699,
     "metadata": {},
     "output_type": "execute_result"
    }
   ],
   "source": [
    "print(\"Distribución de las categorías por edad:\")\n",
    "print(\"1: < 1 MES\")\n",
    "print(\"2:>= 1 MES o < 6 MESES \")\n",
    "print(\"3:>= 6 MES o < 12 MESES\")\n",
    "print(\"0:<= 24 MESES\")\n",
    "print(\"\\n\")\n",
    "display(df_CI[\"EDAD\"].value_counts().sort_index())\n",
    "print(\"---------\" * 2)\n",
    "round(df_CI[\"EDAD\"].value_counts(normalize = True) * 100, 2).sort_index()"
   ]
  },
  {
   "cell_type": "code",
   "execution_count": 700,
   "id": "3c4304ed-20c8-45f0-a1c7-7b6ee4735cc8",
   "metadata": {},
   "outputs": [
    {
     "name": "stdout",
     "output_type": "stream",
     "text": [
      "No hay nulos en columna 'EDAD'.\n"
     ]
    }
   ],
   "source": [
    "df_CI[\"EDAD\"].isna().sum()\n",
    "print(\"No hay nulos en columna 'EDAD'.\")"
   ]
  },
  {
   "cell_type": "markdown",
   "id": "87fd01f8-82ee-44dc-8bfa-4bb8d72ddab6",
   "metadata": {},
   "source": [
    "# 2- GENERO"
   ]
  },
  {
   "cell_type": "code",
   "execution_count": 701,
   "id": "87b43d0b-a719-4f48-9d5f-a8355562b845",
   "metadata": {},
   "outputs": [
    {
     "name": "stdout",
     "output_type": "stream",
     "text": [
      "Distribución de las categorías por género:\n",
      "0: Femenino\n",
      "1: Masculino\n",
      "\n",
      "\n"
     ]
    },
    {
     "data": {
      "text/plain": [
       "0    141\n",
       "1    176\n",
       "Name: GENERO, dtype: int64"
      ]
     },
     "metadata": {},
     "output_type": "display_data"
    },
    {
     "name": "stdout",
     "output_type": "stream",
     "text": [
      "------------------\n"
     ]
    },
    {
     "data": {
      "text/plain": [
       "0    44.48\n",
       "1    55.52\n",
       "Name: GENERO, dtype: float64"
      ]
     },
     "execution_count": 701,
     "metadata": {},
     "output_type": "execute_result"
    }
   ],
   "source": [
    "print(\"Distribución de las categorías por género:\")\n",
    "print(\"0: Femenino\")\n",
    "print(\"1: Masculino\")\n",
    "print(\"\\n\")\n",
    "display(df_CI[\"GENERO\"].value_counts().sort_index())\n",
    "print(\"---------\" * 2)\n",
    "round(df_CI[\"GENERO\"].value_counts(normalize = True) * 100, 2).sort_index()"
   ]
  },
  {
   "cell_type": "code",
   "execution_count": 702,
   "id": "07c51614-dbf5-4a0e-b898-6a4f6b1c6e2e",
   "metadata": {},
   "outputs": [
    {
     "name": "stdout",
     "output_type": "stream",
     "text": [
      "No hay nulos en columna 'GENERO'.\n"
     ]
    }
   ],
   "source": [
    "df_CI[\"GENERO\"].isna().sum()\n",
    "print(\"No hay nulos en columna 'GENERO'.\")"
   ]
  },
  {
   "cell_type": "markdown",
   "id": "6354da03-d8db-47e1-bf5c-605c4da87e03",
   "metadata": {
    "tags": []
   },
   "source": [
    "# 3- DIAGNOSTICO"
   ]
  },
  {
   "cell_type": "code",
   "execution_count": 703,
   "id": "d23468e3-ef9b-41c6-858e-df03ca9ad811",
   "metadata": {},
   "outputs": [
    {
     "name": "stdout",
     "output_type": "stream",
     "text": [
      "Distribución de las categorías por diagnóstico:\n",
      "0: IRAB\n",
      "1: BQL\n",
      "2: NMN\n",
      "3: NMN + DERRAME\n",
      "6: BQL + NMN\n",
      "\n",
      "\n"
     ]
    },
    {
     "data": {
      "text/plain": [
       "BQL              180\n",
       "NMN               59\n",
       "IRAB              58\n",
       "BQL + NMN         15\n",
       "NMN + DERRAME      5\n",
       "Name: DIAGNOSTICO, dtype: int64"
      ]
     },
     "metadata": {},
     "output_type": "display_data"
    },
    {
     "name": "stdout",
     "output_type": "stream",
     "text": [
      "------------------\n"
     ]
    },
    {
     "data": {
      "text/plain": [
       "BQL              56.78\n",
       "NMN              18.61\n",
       "IRAB             18.30\n",
       "BQL + NMN         4.73\n",
       "NMN + DERRAME     1.58\n",
       "Name: DIAGNOSTICO, dtype: float64"
      ]
     },
     "execution_count": 703,
     "metadata": {},
     "output_type": "execute_result"
    }
   ],
   "source": [
    "print(\"Distribución de las categorías por diagnóstico:\")\n",
    "print(\"0: IRAB\")\n",
    "print(\"1: BQL\")\n",
    "print(\"2: NMN\")\n",
    "print(\"3: NMN + DERRAME\")\n",
    "print(\"6: BQL + NMN\")\n",
    "\n",
    "print(\"\\n\")\n",
    "display(df_CI[\"DIAGNOSTICO\"].value_counts())\n",
    "print(\"---------\" * 2)\n",
    "round(df_CI[\"DIAGNOSTICO\"].value_counts(normalize = True) * 100, 2)"
   ]
  },
  {
   "cell_type": "code",
   "execution_count": 704,
   "id": "e5df8394-4b26-4564-80a8-b856431ecd3a",
   "metadata": {},
   "outputs": [
    {
     "name": "stdout",
     "output_type": "stream",
     "text": [
      "No hay nulos en columna 'DIAGNOSTICO'.\n"
     ]
    }
   ],
   "source": [
    "df_CI[\"DIAGNOSTICO\"].isna().sum()\n",
    "print(\"No hay nulos en columna 'DIAGNOSTICO'.\")"
   ]
  },
  {
   "cell_type": "markdown",
   "id": "b991ac97-03ae-4eaf-b567-2fa8681d6b52",
   "metadata": {
    "tags": []
   },
   "source": [
    "# 4- ANTECEDENTES"
   ]
  },
  {
   "cell_type": "code",
   "execution_count": 705,
   "id": "0cdf4b19-3936-405e-8651-68407b61b39d",
   "metadata": {},
   "outputs": [],
   "source": [
    "#df_CI[\"NUMERO_ANTECEDENTES\"] = control_antecedentes.iloc[:, 8:16].sum(axis = 1)"
   ]
  },
  {
   "cell_type": "code",
   "execution_count": 706,
   "id": "850d344d-1cc6-4f49-bf24-440a0630c401",
   "metadata": {},
   "outputs": [
    {
     "data": {
      "text/plain": [
       "NO                      161\n",
       "SBO AMBULATORIO          78\n",
       "UTIN                      7\n",
       "UTIN-SBO AMBULATORIO      3\n",
       "HIRSCHPRUNG - UTIN        1\n",
       "Name: ANTECEDENTES, dtype: int64"
      ]
     },
     "execution_count": 706,
     "metadata": {},
     "output_type": "execute_result"
    }
   ],
   "source": [
    "df_CI[\"ANTECEDENTES\"].value_counts().head()"
   ]
  },
  {
   "cell_type": "code",
   "execution_count": 707,
   "id": "6fce913b-b8e3-45b2-9d73-c60069738fb9",
   "metadata": {},
   "outputs": [
    {
     "name": "stdout",
     "output_type": "stream",
     "text": [
      "160 pacientes no tuvieron antecedentes. Esto representa el 50.47%.\n"
     ]
    }
   ],
   "source": [
    "top_antecedente = df_CI[\"ANTECEDENTES\"].value_counts().head(1)\n",
    "\n",
    "print(f\"160 pacientes no tuvieron antecedentes. Esto representa el {round(160 / df_CI.shape[0] * 100, 2)}%.\")"
   ]
  },
  {
   "cell_type": "code",
   "execution_count": 708,
   "id": "a4b4a7d5-feea-4be0-b645-cef3d208f082",
   "metadata": {},
   "outputs": [
    {
     "name": "stdout",
     "output_type": "stream",
     "text": [
      "99 pacientes con antecedente de 'SBO'. Esto representa el 31.23%.\n"
     ]
    }
   ],
   "source": [
    "n_sbo = df_CI[df_CI[\"ANTECEDENTES\"].str.contains(\"SBO\")].shape[0]\n",
    "print(f\"99 pacientes con antecedente de 'SBO'. Esto representa el {round(n_sbo / df_CI.shape[0] * 100, 2)}%.\")"
   ]
  },
  {
   "cell_type": "code",
   "execution_count": 709,
   "id": "f51994e2-ca4a-4834-a129-2594e632ab8b",
   "metadata": {},
   "outputs": [
    {
     "name": "stdout",
     "output_type": "stream",
     "text": [
      "Nro de antecedentes (n):\n"
     ]
    },
    {
     "data": {
      "text/plain": [
       "0    161\n",
       "1    116\n",
       "2     24\n",
       "3     10\n",
       "4      2\n",
       "5      1\n",
       "6      2\n",
       "8      1\n",
       "Name: NUMERO_ANTECEDENTES, dtype: int64"
      ]
     },
     "metadata": {},
     "output_type": "display_data"
    },
    {
     "name": "stdout",
     "output_type": "stream",
     "text": [
      "\n",
      "\n",
      "Nro de antecedentes (%):\n"
     ]
    },
    {
     "data": {
      "text/plain": [
       "0    50.79\n",
       "1    36.59\n",
       "2     7.57\n",
       "3     3.15\n",
       "4     0.63\n",
       "6     0.63\n",
       "5     0.32\n",
       "8     0.32\n",
       "Name: NUMERO_ANTECEDENTES, dtype: float64"
      ]
     },
     "execution_count": 709,
     "metadata": {},
     "output_type": "execute_result"
    }
   ],
   "source": [
    "print(\"Nro de antecedentes (n):\")\n",
    "display(df_CI[\"NUMERO_ANTECEDENTES\"].value_counts().sort_index())\n",
    "print(\"\\n\")\n",
    "print(\"Nro de antecedentes (%):\")\n",
    "round(df_CI[\"NUMERO_ANTECEDENTES\"].value_counts(normalize = True) * 100, 2)"
   ]
  },
  {
   "cell_type": "code",
   "execution_count": 710,
   "id": "3d488398-920a-435b-a05f-209b36be17d4",
   "metadata": {},
   "outputs": [
    {
     "name": "stdout",
     "output_type": "stream",
     "text": [
      "La mediana de nro de antecedentes fue de 0.0.\n"
     ]
    }
   ],
   "source": [
    "n_ant_median = df_CI[\"NUMERO_ANTECEDENTES\"].median()\n",
    "print(f\"La mediana de nro de antecedentes fue de {n_ant_median}.\")"
   ]
  },
  {
   "cell_type": "code",
   "execution_count": 711,
   "id": "80b92322-4bec-4cf7-99c9-e97da1a78ca0",
   "metadata": {},
   "outputs": [
    {
     "data": {
      "text/plain": [
       "(161, 52)"
      ]
     },
     "execution_count": 711,
     "metadata": {},
     "output_type": "execute_result"
    }
   ],
   "source": [
    "df_CI[df_CI[\"NUMERO_ANTECEDENTES\"] == 0].shape"
   ]
  },
  {
   "cell_type": "code",
   "execution_count": 712,
   "id": "e10d1589-e3a5-4a3b-9b83-684fbf92a81a",
   "metadata": {},
   "outputs": [
    {
     "data": {
      "text/plain": [
       "(161, 52)"
      ]
     },
     "execution_count": 712,
     "metadata": {},
     "output_type": "execute_result"
    }
   ],
   "source": [
    "df_CI[df_CI[\"ANTECEDENTES\"] == \"NO\"].shape"
   ]
  },
  {
   "cell_type": "code",
   "execution_count": 713,
   "id": "21859591-35a4-4d5e-8b0a-950969e21be5",
   "metadata": {},
   "outputs": [
    {
     "data": {
      "text/html": [
       "<div>\n",
       "<style scoped>\n",
       "    .dataframe tbody tr th:only-of-type {\n",
       "        vertical-align: middle;\n",
       "    }\n",
       "\n",
       "    .dataframe tbody tr th {\n",
       "        vertical-align: top;\n",
       "    }\n",
       "\n",
       "    .dataframe thead th {\n",
       "        text-align: right;\n",
       "    }\n",
       "</style>\n",
       "<table border=\"1\" class=\"dataframe\">\n",
       "  <thead>\n",
       "    <tr style=\"text-align: right;\">\n",
       "      <th></th>\n",
       "      <th>NOMBRE</th>\n",
       "      <th>ANTECEDENTES</th>\n",
       "      <th>NUMERO_ANTECEDENTES</th>\n",
       "    </tr>\n",
       "  </thead>\n",
       "  <tbody>\n",
       "  </tbody>\n",
       "</table>\n",
       "</div>"
      ],
      "text/plain": [
       "Empty DataFrame\n",
       "Columns: [NOMBRE, ANTECEDENTES, NUMERO_ANTECEDENTES]\n",
       "Index: []"
      ]
     },
     "execution_count": 713,
     "metadata": {},
     "output_type": "execute_result"
    }
   ],
   "source": [
    "df_CI[(df_CI[\"NUMERO_ANTECEDENTES\"] == 0) & (df_CI[\"ANTECEDENTES\"] != \"NO\")][[\"NOMBRE\", \"ANTECEDENTES\", \"NUMERO_ANTECEDENTES\"]]"
   ]
  },
  {
   "cell_type": "code",
   "execution_count": 714,
   "id": "ad87cbfa-483c-415c-a191-3a8bb71cd1a8",
   "metadata": {},
   "outputs": [],
   "source": [
    "antecedentes1 = df_CI[df_CI[\"NUMERO_ANTECEDENTES\"] == 1]\n",
    "antecedentes2 = df_CI[df_CI[\"NUMERO_ANTECEDENTES\"] == 2]\n",
    "antecedentes3 = df_CI[df_CI[\"NUMERO_ANTECEDENTES\"] == 3]\n",
    "antecedentes4 = df_CI[df_CI[\"NUMERO_ANTECEDENTES\"] == 4]\n",
    "antecedentes5 = df_CI[df_CI[\"NUMERO_ANTECEDENTES\"] == 5]\n",
    "antecedentes6 = df_CI[df_CI[\"NUMERO_ANTECEDENTES\"] == 6]\n",
    "antecedentes8 = df_CI[df_CI[\"NUMERO_ANTECEDENTES\"] == 8]"
   ]
  },
  {
   "cell_type": "code",
   "execution_count": 715,
   "id": "3c176d94-20dc-4309-a157-b657d3066be2",
   "metadata": {},
   "outputs": [],
   "source": [
    "antecedentes_col = ['ANTECEDENTE_RESPIRATORIO', 'ANTECEDENTE_CARDIOVASCULAR',\n",
    "                    'ANTECEDENTE_NEUROLOGICONO', 'ANTECEDENTE_METABOLICO',\n",
    "                    'ANTECEDENTE_ONCOLOGICO', 'ANTECEDENTE_GENETICO', 'OTROS']"
   ]
  },
  {
   "cell_type": "code",
   "execution_count": 716,
   "id": "52d22e81-9138-4563-b8ba-9f4b91f607a5",
   "metadata": {},
   "outputs": [
    {
     "data": {
      "text/plain": [
       "116"
      ]
     },
     "execution_count": 716,
     "metadata": {},
     "output_type": "execute_result"
    }
   ],
   "source": [
    "antecedentes1[\"NUMERO_ANTECEDENTES\"].sum()"
   ]
  },
  {
   "cell_type": "code",
   "execution_count": 717,
   "id": "64fe70bf-be65-46ff-8eca-4f740d2dcdaa",
   "metadata": {},
   "outputs": [
    {
     "data": {
      "text/plain": [
       "48"
      ]
     },
     "execution_count": 717,
     "metadata": {},
     "output_type": "execute_result"
    }
   ],
   "source": [
    "antecedentes2[\"NUMERO_ANTECEDENTES\"].sum()"
   ]
  },
  {
   "cell_type": "code",
   "execution_count": 718,
   "id": "f246fbc3-5231-4751-a2e5-e029e397aca3",
   "metadata": {},
   "outputs": [
    {
     "ename": "KeyError",
     "evalue": "'NUMERO ANTECEDENTES'",
     "output_type": "error",
     "traceback": [
      "\u001b[0;31m---------------------------------------------------------------------------\u001b[0m",
      "\u001b[0;31mKeyError\u001b[0m                                  Traceback (most recent call last)",
      "\u001b[0;32m~/Descargas/enter/lib/python3.9/site-packages/pandas/core/indexes/base.py\u001b[0m in \u001b[0;36mget_loc\u001b[0;34m(self, key, method, tolerance)\u001b[0m\n\u001b[1;32m   3628\u001b[0m             \u001b[0;32mtry\u001b[0m\u001b[0;34m:\u001b[0m\u001b[0;34m\u001b[0m\u001b[0;34m\u001b[0m\u001b[0m\n\u001b[0;32m-> 3629\u001b[0;31m                 \u001b[0;32mreturn\u001b[0m \u001b[0mself\u001b[0m\u001b[0;34m.\u001b[0m\u001b[0m_engine\u001b[0m\u001b[0;34m.\u001b[0m\u001b[0mget_loc\u001b[0m\u001b[0;34m(\u001b[0m\u001b[0mcasted_key\u001b[0m\u001b[0;34m)\u001b[0m\u001b[0;34m\u001b[0m\u001b[0;34m\u001b[0m\u001b[0m\n\u001b[0m\u001b[1;32m   3630\u001b[0m             \u001b[0;32mexcept\u001b[0m \u001b[0mKeyError\u001b[0m \u001b[0;32mas\u001b[0m \u001b[0merr\u001b[0m\u001b[0;34m:\u001b[0m\u001b[0;34m\u001b[0m\u001b[0;34m\u001b[0m\u001b[0m\n",
      "\u001b[0;32m~/Descargas/enter/lib/python3.9/site-packages/pandas/_libs/index.pyx\u001b[0m in \u001b[0;36mpandas._libs.index.IndexEngine.get_loc\u001b[0;34m()\u001b[0m\n",
      "\u001b[0;32m~/Descargas/enter/lib/python3.9/site-packages/pandas/_libs/index.pyx\u001b[0m in \u001b[0;36mpandas._libs.index.IndexEngine.get_loc\u001b[0;34m()\u001b[0m\n",
      "\u001b[0;32mpandas/_libs/hashtable_class_helper.pxi\u001b[0m in \u001b[0;36mpandas._libs.hashtable.PyObjectHashTable.get_item\u001b[0;34m()\u001b[0m\n",
      "\u001b[0;32mpandas/_libs/hashtable_class_helper.pxi\u001b[0m in \u001b[0;36mpandas._libs.hashtable.PyObjectHashTable.get_item\u001b[0;34m()\u001b[0m\n",
      "\u001b[0;31mKeyError\u001b[0m: 'NUMERO ANTECEDENTES'",
      "\nThe above exception was the direct cause of the following exception:\n",
      "\u001b[0;31mKeyError\u001b[0m                                  Traceback (most recent call last)",
      "\u001b[0;32m/tmp/ipykernel_10201/993144389.py\u001b[0m in \u001b[0;36m<module>\u001b[0;34m\u001b[0m\n\u001b[0;32m----> 1\u001b[0;31m \u001b[0mantecedentes3\u001b[0m\u001b[0;34m[\u001b[0m\u001b[0;34m\"NUMERO ANTECEDENTES\"\u001b[0m\u001b[0;34m]\u001b[0m\u001b[0;34m.\u001b[0m\u001b[0msum\u001b[0m\u001b[0;34m(\u001b[0m\u001b[0;34m)\u001b[0m\u001b[0;34m\u001b[0m\u001b[0;34m\u001b[0m\u001b[0m\n\u001b[0m",
      "\u001b[0;32m~/Descargas/enter/lib/python3.9/site-packages/pandas/core/frame.py\u001b[0m in \u001b[0;36m__getitem__\u001b[0;34m(self, key)\u001b[0m\n\u001b[1;32m   3503\u001b[0m             \u001b[0;32mif\u001b[0m \u001b[0mself\u001b[0m\u001b[0;34m.\u001b[0m\u001b[0mcolumns\u001b[0m\u001b[0;34m.\u001b[0m\u001b[0mnlevels\u001b[0m \u001b[0;34m>\u001b[0m \u001b[0;36m1\u001b[0m\u001b[0;34m:\u001b[0m\u001b[0;34m\u001b[0m\u001b[0;34m\u001b[0m\u001b[0m\n\u001b[1;32m   3504\u001b[0m                 \u001b[0;32mreturn\u001b[0m \u001b[0mself\u001b[0m\u001b[0;34m.\u001b[0m\u001b[0m_getitem_multilevel\u001b[0m\u001b[0;34m(\u001b[0m\u001b[0mkey\u001b[0m\u001b[0;34m)\u001b[0m\u001b[0;34m\u001b[0m\u001b[0;34m\u001b[0m\u001b[0m\n\u001b[0;32m-> 3505\u001b[0;31m             \u001b[0mindexer\u001b[0m \u001b[0;34m=\u001b[0m \u001b[0mself\u001b[0m\u001b[0;34m.\u001b[0m\u001b[0mcolumns\u001b[0m\u001b[0;34m.\u001b[0m\u001b[0mget_loc\u001b[0m\u001b[0;34m(\u001b[0m\u001b[0mkey\u001b[0m\u001b[0;34m)\u001b[0m\u001b[0;34m\u001b[0m\u001b[0;34m\u001b[0m\u001b[0m\n\u001b[0m\u001b[1;32m   3506\u001b[0m             \u001b[0;32mif\u001b[0m \u001b[0mis_integer\u001b[0m\u001b[0;34m(\u001b[0m\u001b[0mindexer\u001b[0m\u001b[0;34m)\u001b[0m\u001b[0;34m:\u001b[0m\u001b[0;34m\u001b[0m\u001b[0;34m\u001b[0m\u001b[0m\n\u001b[1;32m   3507\u001b[0m                 \u001b[0mindexer\u001b[0m \u001b[0;34m=\u001b[0m \u001b[0;34m[\u001b[0m\u001b[0mindexer\u001b[0m\u001b[0;34m]\u001b[0m\u001b[0;34m\u001b[0m\u001b[0;34m\u001b[0m\u001b[0m\n",
      "\u001b[0;32m~/Descargas/enter/lib/python3.9/site-packages/pandas/core/indexes/base.py\u001b[0m in \u001b[0;36mget_loc\u001b[0;34m(self, key, method, tolerance)\u001b[0m\n\u001b[1;32m   3629\u001b[0m                 \u001b[0;32mreturn\u001b[0m \u001b[0mself\u001b[0m\u001b[0;34m.\u001b[0m\u001b[0m_engine\u001b[0m\u001b[0;34m.\u001b[0m\u001b[0mget_loc\u001b[0m\u001b[0;34m(\u001b[0m\u001b[0mcasted_key\u001b[0m\u001b[0;34m)\u001b[0m\u001b[0;34m\u001b[0m\u001b[0;34m\u001b[0m\u001b[0m\n\u001b[1;32m   3630\u001b[0m             \u001b[0;32mexcept\u001b[0m \u001b[0mKeyError\u001b[0m \u001b[0;32mas\u001b[0m \u001b[0merr\u001b[0m\u001b[0;34m:\u001b[0m\u001b[0;34m\u001b[0m\u001b[0;34m\u001b[0m\u001b[0m\n\u001b[0;32m-> 3631\u001b[0;31m                 \u001b[0;32mraise\u001b[0m \u001b[0mKeyError\u001b[0m\u001b[0;34m(\u001b[0m\u001b[0mkey\u001b[0m\u001b[0;34m)\u001b[0m \u001b[0;32mfrom\u001b[0m \u001b[0merr\u001b[0m\u001b[0;34m\u001b[0m\u001b[0;34m\u001b[0m\u001b[0m\n\u001b[0m\u001b[1;32m   3632\u001b[0m             \u001b[0;32mexcept\u001b[0m \u001b[0mTypeError\u001b[0m\u001b[0;34m:\u001b[0m\u001b[0;34m\u001b[0m\u001b[0;34m\u001b[0m\u001b[0m\n\u001b[1;32m   3633\u001b[0m                 \u001b[0;31m# If we have a listlike key, _check_indexing_error will raise\u001b[0m\u001b[0;34m\u001b[0m\u001b[0;34m\u001b[0m\u001b[0m\n",
      "\u001b[0;31mKeyError\u001b[0m: 'NUMERO ANTECEDENTES'"
     ]
    }
   ],
   "source": [
    "antecedentes3[\"NUMERO ANTECEDENTES\"].sum()"
   ]
  },
  {
   "cell_type": "code",
   "execution_count": 719,
   "id": "09457e79-03b5-453f-892e-4678091d41c7",
   "metadata": {},
   "outputs": [
    {
     "ename": "KeyError",
     "evalue": "'NUMERO ANTECEDENTES'",
     "output_type": "error",
     "traceback": [
      "\u001b[0;31m---------------------------------------------------------------------------\u001b[0m",
      "\u001b[0;31mKeyError\u001b[0m                                  Traceback (most recent call last)",
      "\u001b[0;32m~/Descargas/enter/lib/python3.9/site-packages/pandas/core/indexes/base.py\u001b[0m in \u001b[0;36mget_loc\u001b[0;34m(self, key, method, tolerance)\u001b[0m\n\u001b[1;32m   3628\u001b[0m             \u001b[0;32mtry\u001b[0m\u001b[0;34m:\u001b[0m\u001b[0;34m\u001b[0m\u001b[0;34m\u001b[0m\u001b[0m\n\u001b[0;32m-> 3629\u001b[0;31m                 \u001b[0;32mreturn\u001b[0m \u001b[0mself\u001b[0m\u001b[0;34m.\u001b[0m\u001b[0m_engine\u001b[0m\u001b[0;34m.\u001b[0m\u001b[0mget_loc\u001b[0m\u001b[0;34m(\u001b[0m\u001b[0mcasted_key\u001b[0m\u001b[0;34m)\u001b[0m\u001b[0;34m\u001b[0m\u001b[0;34m\u001b[0m\u001b[0m\n\u001b[0m\u001b[1;32m   3630\u001b[0m             \u001b[0;32mexcept\u001b[0m \u001b[0mKeyError\u001b[0m \u001b[0;32mas\u001b[0m \u001b[0merr\u001b[0m\u001b[0;34m:\u001b[0m\u001b[0;34m\u001b[0m\u001b[0;34m\u001b[0m\u001b[0m\n",
      "\u001b[0;32m~/Descargas/enter/lib/python3.9/site-packages/pandas/_libs/index.pyx\u001b[0m in \u001b[0;36mpandas._libs.index.IndexEngine.get_loc\u001b[0;34m()\u001b[0m\n",
      "\u001b[0;32m~/Descargas/enter/lib/python3.9/site-packages/pandas/_libs/index.pyx\u001b[0m in \u001b[0;36mpandas._libs.index.IndexEngine.get_loc\u001b[0;34m()\u001b[0m\n",
      "\u001b[0;32mpandas/_libs/hashtable_class_helper.pxi\u001b[0m in \u001b[0;36mpandas._libs.hashtable.PyObjectHashTable.get_item\u001b[0;34m()\u001b[0m\n",
      "\u001b[0;32mpandas/_libs/hashtable_class_helper.pxi\u001b[0m in \u001b[0;36mpandas._libs.hashtable.PyObjectHashTable.get_item\u001b[0;34m()\u001b[0m\n",
      "\u001b[0;31mKeyError\u001b[0m: 'NUMERO ANTECEDENTES'",
      "\nThe above exception was the direct cause of the following exception:\n",
      "\u001b[0;31mKeyError\u001b[0m                                  Traceback (most recent call last)",
      "\u001b[0;32m/tmp/ipykernel_10201/1768739586.py\u001b[0m in \u001b[0;36m<module>\u001b[0;34m\u001b[0m\n\u001b[0;32m----> 1\u001b[0;31m \u001b[0mantecedentes4\u001b[0m\u001b[0;34m[\u001b[0m\u001b[0;34m\"NUMERO ANTECEDENTES\"\u001b[0m\u001b[0;34m]\u001b[0m\u001b[0;34m.\u001b[0m\u001b[0msum\u001b[0m\u001b[0;34m(\u001b[0m\u001b[0;34m)\u001b[0m\u001b[0;34m\u001b[0m\u001b[0;34m\u001b[0m\u001b[0m\n\u001b[0m",
      "\u001b[0;32m~/Descargas/enter/lib/python3.9/site-packages/pandas/core/frame.py\u001b[0m in \u001b[0;36m__getitem__\u001b[0;34m(self, key)\u001b[0m\n\u001b[1;32m   3503\u001b[0m             \u001b[0;32mif\u001b[0m \u001b[0mself\u001b[0m\u001b[0;34m.\u001b[0m\u001b[0mcolumns\u001b[0m\u001b[0;34m.\u001b[0m\u001b[0mnlevels\u001b[0m \u001b[0;34m>\u001b[0m \u001b[0;36m1\u001b[0m\u001b[0;34m:\u001b[0m\u001b[0;34m\u001b[0m\u001b[0;34m\u001b[0m\u001b[0m\n\u001b[1;32m   3504\u001b[0m                 \u001b[0;32mreturn\u001b[0m \u001b[0mself\u001b[0m\u001b[0;34m.\u001b[0m\u001b[0m_getitem_multilevel\u001b[0m\u001b[0;34m(\u001b[0m\u001b[0mkey\u001b[0m\u001b[0;34m)\u001b[0m\u001b[0;34m\u001b[0m\u001b[0;34m\u001b[0m\u001b[0m\n\u001b[0;32m-> 3505\u001b[0;31m             \u001b[0mindexer\u001b[0m \u001b[0;34m=\u001b[0m \u001b[0mself\u001b[0m\u001b[0;34m.\u001b[0m\u001b[0mcolumns\u001b[0m\u001b[0;34m.\u001b[0m\u001b[0mget_loc\u001b[0m\u001b[0;34m(\u001b[0m\u001b[0mkey\u001b[0m\u001b[0;34m)\u001b[0m\u001b[0;34m\u001b[0m\u001b[0;34m\u001b[0m\u001b[0m\n\u001b[0m\u001b[1;32m   3506\u001b[0m             \u001b[0;32mif\u001b[0m \u001b[0mis_integer\u001b[0m\u001b[0;34m(\u001b[0m\u001b[0mindexer\u001b[0m\u001b[0;34m)\u001b[0m\u001b[0;34m:\u001b[0m\u001b[0;34m\u001b[0m\u001b[0;34m\u001b[0m\u001b[0m\n\u001b[1;32m   3507\u001b[0m                 \u001b[0mindexer\u001b[0m \u001b[0;34m=\u001b[0m \u001b[0;34m[\u001b[0m\u001b[0mindexer\u001b[0m\u001b[0;34m]\u001b[0m\u001b[0;34m\u001b[0m\u001b[0;34m\u001b[0m\u001b[0m\n",
      "\u001b[0;32m~/Descargas/enter/lib/python3.9/site-packages/pandas/core/indexes/base.py\u001b[0m in \u001b[0;36mget_loc\u001b[0;34m(self, key, method, tolerance)\u001b[0m\n\u001b[1;32m   3629\u001b[0m                 \u001b[0;32mreturn\u001b[0m \u001b[0mself\u001b[0m\u001b[0;34m.\u001b[0m\u001b[0m_engine\u001b[0m\u001b[0;34m.\u001b[0m\u001b[0mget_loc\u001b[0m\u001b[0;34m(\u001b[0m\u001b[0mcasted_key\u001b[0m\u001b[0;34m)\u001b[0m\u001b[0;34m\u001b[0m\u001b[0;34m\u001b[0m\u001b[0m\n\u001b[1;32m   3630\u001b[0m             \u001b[0;32mexcept\u001b[0m \u001b[0mKeyError\u001b[0m \u001b[0;32mas\u001b[0m \u001b[0merr\u001b[0m\u001b[0;34m:\u001b[0m\u001b[0;34m\u001b[0m\u001b[0;34m\u001b[0m\u001b[0m\n\u001b[0;32m-> 3631\u001b[0;31m                 \u001b[0;32mraise\u001b[0m \u001b[0mKeyError\u001b[0m\u001b[0;34m(\u001b[0m\u001b[0mkey\u001b[0m\u001b[0;34m)\u001b[0m \u001b[0;32mfrom\u001b[0m \u001b[0merr\u001b[0m\u001b[0;34m\u001b[0m\u001b[0;34m\u001b[0m\u001b[0m\n\u001b[0m\u001b[1;32m   3632\u001b[0m             \u001b[0;32mexcept\u001b[0m \u001b[0mTypeError\u001b[0m\u001b[0;34m:\u001b[0m\u001b[0;34m\u001b[0m\u001b[0;34m\u001b[0m\u001b[0m\n\u001b[1;32m   3633\u001b[0m                 \u001b[0;31m# If we have a listlike key, _check_indexing_error will raise\u001b[0m\u001b[0;34m\u001b[0m\u001b[0;34m\u001b[0m\u001b[0m\n",
      "\u001b[0;31mKeyError\u001b[0m: 'NUMERO ANTECEDENTES'"
     ]
    }
   ],
   "source": [
    "antecedentes4[\"NUMERO ANTECEDENTES\"].sum()"
   ]
  },
  {
   "cell_type": "code",
   "execution_count": 720,
   "id": "80d0ee34-2f9e-4c8c-994f-ec8f97de7ec5",
   "metadata": {},
   "outputs": [
    {
     "ename": "KeyError",
     "evalue": "'NUMERO ANTECEDENTES'",
     "output_type": "error",
     "traceback": [
      "\u001b[0;31m---------------------------------------------------------------------------\u001b[0m",
      "\u001b[0;31mKeyError\u001b[0m                                  Traceback (most recent call last)",
      "\u001b[0;32m~/Descargas/enter/lib/python3.9/site-packages/pandas/core/indexes/base.py\u001b[0m in \u001b[0;36mget_loc\u001b[0;34m(self, key, method, tolerance)\u001b[0m\n\u001b[1;32m   3628\u001b[0m             \u001b[0;32mtry\u001b[0m\u001b[0;34m:\u001b[0m\u001b[0;34m\u001b[0m\u001b[0;34m\u001b[0m\u001b[0m\n\u001b[0;32m-> 3629\u001b[0;31m                 \u001b[0;32mreturn\u001b[0m \u001b[0mself\u001b[0m\u001b[0;34m.\u001b[0m\u001b[0m_engine\u001b[0m\u001b[0;34m.\u001b[0m\u001b[0mget_loc\u001b[0m\u001b[0;34m(\u001b[0m\u001b[0mcasted_key\u001b[0m\u001b[0;34m)\u001b[0m\u001b[0;34m\u001b[0m\u001b[0;34m\u001b[0m\u001b[0m\n\u001b[0m\u001b[1;32m   3630\u001b[0m             \u001b[0;32mexcept\u001b[0m \u001b[0mKeyError\u001b[0m \u001b[0;32mas\u001b[0m \u001b[0merr\u001b[0m\u001b[0;34m:\u001b[0m\u001b[0;34m\u001b[0m\u001b[0;34m\u001b[0m\u001b[0m\n",
      "\u001b[0;32m~/Descargas/enter/lib/python3.9/site-packages/pandas/_libs/index.pyx\u001b[0m in \u001b[0;36mpandas._libs.index.IndexEngine.get_loc\u001b[0;34m()\u001b[0m\n",
      "\u001b[0;32m~/Descargas/enter/lib/python3.9/site-packages/pandas/_libs/index.pyx\u001b[0m in \u001b[0;36mpandas._libs.index.IndexEngine.get_loc\u001b[0;34m()\u001b[0m\n",
      "\u001b[0;32mpandas/_libs/hashtable_class_helper.pxi\u001b[0m in \u001b[0;36mpandas._libs.hashtable.PyObjectHashTable.get_item\u001b[0;34m()\u001b[0m\n",
      "\u001b[0;32mpandas/_libs/hashtable_class_helper.pxi\u001b[0m in \u001b[0;36mpandas._libs.hashtable.PyObjectHashTable.get_item\u001b[0;34m()\u001b[0m\n",
      "\u001b[0;31mKeyError\u001b[0m: 'NUMERO ANTECEDENTES'",
      "\nThe above exception was the direct cause of the following exception:\n",
      "\u001b[0;31mKeyError\u001b[0m                                  Traceback (most recent call last)",
      "\u001b[0;32m/tmp/ipykernel_10201/1474471166.py\u001b[0m in \u001b[0;36m<module>\u001b[0;34m\u001b[0m\n\u001b[0;32m----> 1\u001b[0;31m \u001b[0mantecedentes6\u001b[0m\u001b[0;34m[\u001b[0m\u001b[0;34m\"NUMERO ANTECEDENTES\"\u001b[0m\u001b[0;34m]\u001b[0m\u001b[0;34m.\u001b[0m\u001b[0msum\u001b[0m\u001b[0;34m(\u001b[0m\u001b[0;34m)\u001b[0m\u001b[0;34m\u001b[0m\u001b[0;34m\u001b[0m\u001b[0m\n\u001b[0m",
      "\u001b[0;32m~/Descargas/enter/lib/python3.9/site-packages/pandas/core/frame.py\u001b[0m in \u001b[0;36m__getitem__\u001b[0;34m(self, key)\u001b[0m\n\u001b[1;32m   3503\u001b[0m             \u001b[0;32mif\u001b[0m \u001b[0mself\u001b[0m\u001b[0;34m.\u001b[0m\u001b[0mcolumns\u001b[0m\u001b[0;34m.\u001b[0m\u001b[0mnlevels\u001b[0m \u001b[0;34m>\u001b[0m \u001b[0;36m1\u001b[0m\u001b[0;34m:\u001b[0m\u001b[0;34m\u001b[0m\u001b[0;34m\u001b[0m\u001b[0m\n\u001b[1;32m   3504\u001b[0m                 \u001b[0;32mreturn\u001b[0m \u001b[0mself\u001b[0m\u001b[0;34m.\u001b[0m\u001b[0m_getitem_multilevel\u001b[0m\u001b[0;34m(\u001b[0m\u001b[0mkey\u001b[0m\u001b[0;34m)\u001b[0m\u001b[0;34m\u001b[0m\u001b[0;34m\u001b[0m\u001b[0m\n\u001b[0;32m-> 3505\u001b[0;31m             \u001b[0mindexer\u001b[0m \u001b[0;34m=\u001b[0m \u001b[0mself\u001b[0m\u001b[0;34m.\u001b[0m\u001b[0mcolumns\u001b[0m\u001b[0;34m.\u001b[0m\u001b[0mget_loc\u001b[0m\u001b[0;34m(\u001b[0m\u001b[0mkey\u001b[0m\u001b[0;34m)\u001b[0m\u001b[0;34m\u001b[0m\u001b[0;34m\u001b[0m\u001b[0m\n\u001b[0m\u001b[1;32m   3506\u001b[0m             \u001b[0;32mif\u001b[0m \u001b[0mis_integer\u001b[0m\u001b[0;34m(\u001b[0m\u001b[0mindexer\u001b[0m\u001b[0;34m)\u001b[0m\u001b[0;34m:\u001b[0m\u001b[0;34m\u001b[0m\u001b[0;34m\u001b[0m\u001b[0m\n\u001b[1;32m   3507\u001b[0m                 \u001b[0mindexer\u001b[0m \u001b[0;34m=\u001b[0m \u001b[0;34m[\u001b[0m\u001b[0mindexer\u001b[0m\u001b[0;34m]\u001b[0m\u001b[0;34m\u001b[0m\u001b[0;34m\u001b[0m\u001b[0m\n",
      "\u001b[0;32m~/Descargas/enter/lib/python3.9/site-packages/pandas/core/indexes/base.py\u001b[0m in \u001b[0;36mget_loc\u001b[0;34m(self, key, method, tolerance)\u001b[0m\n\u001b[1;32m   3629\u001b[0m                 \u001b[0;32mreturn\u001b[0m \u001b[0mself\u001b[0m\u001b[0;34m.\u001b[0m\u001b[0m_engine\u001b[0m\u001b[0;34m.\u001b[0m\u001b[0mget_loc\u001b[0m\u001b[0;34m(\u001b[0m\u001b[0mcasted_key\u001b[0m\u001b[0;34m)\u001b[0m\u001b[0;34m\u001b[0m\u001b[0;34m\u001b[0m\u001b[0m\n\u001b[1;32m   3630\u001b[0m             \u001b[0;32mexcept\u001b[0m \u001b[0mKeyError\u001b[0m \u001b[0;32mas\u001b[0m \u001b[0merr\u001b[0m\u001b[0;34m:\u001b[0m\u001b[0;34m\u001b[0m\u001b[0;34m\u001b[0m\u001b[0m\n\u001b[0;32m-> 3631\u001b[0;31m                 \u001b[0;32mraise\u001b[0m \u001b[0mKeyError\u001b[0m\u001b[0;34m(\u001b[0m\u001b[0mkey\u001b[0m\u001b[0;34m)\u001b[0m \u001b[0;32mfrom\u001b[0m \u001b[0merr\u001b[0m\u001b[0;34m\u001b[0m\u001b[0;34m\u001b[0m\u001b[0m\n\u001b[0m\u001b[1;32m   3632\u001b[0m             \u001b[0;32mexcept\u001b[0m \u001b[0mTypeError\u001b[0m\u001b[0;34m:\u001b[0m\u001b[0;34m\u001b[0m\u001b[0;34m\u001b[0m\u001b[0m\n\u001b[1;32m   3633\u001b[0m                 \u001b[0;31m# If we have a listlike key, _check_indexing_error will raise\u001b[0m\u001b[0;34m\u001b[0m\u001b[0;34m\u001b[0m\u001b[0m\n",
      "\u001b[0;31mKeyError\u001b[0m: 'NUMERO ANTECEDENTES'"
     ]
    }
   ],
   "source": [
    "antecedentes6[\"NUMERO ANTECEDENTES\"].sum()"
   ]
  },
  {
   "cell_type": "code",
   "execution_count": 721,
   "id": "ec519691-386d-4b8c-9557-20378728c54f",
   "metadata": {},
   "outputs": [
    {
     "name": "stdout",
     "output_type": "stream",
     "text": [
      "Antecedente más predominante para los pacientes que tienen 1 antecedente.\n",
      "\n",
      "ANTECEDENTE_RESPIRATORIO:\n",
      "------------------------\n",
      "87\n",
      "ANTECEDENTE_CARDIOVASCULAR:\n",
      "------------------------\n",
      "1\n",
      "ANTECEDENTE_NEUROLOGICONO:\n",
      "------------------------\n",
      "0\n",
      "ANTECEDENTE_METABOLICO:\n",
      "------------------------\n",
      "2\n",
      "ANTECEDENTE_ONCOLOGICO:\n",
      "------------------------\n",
      "0\n",
      "ANTECEDENTE_GENETICO:\n",
      "------------------------\n",
      "7\n",
      "OTROS:\n",
      "------------------------\n",
      "19\n"
     ]
    }
   ],
   "source": [
    "print(\"Antecedente más predominante para los pacientes que tienen 1 antecedente.\\n\")\n",
    "\n",
    "for i in antecedentes_col:\n",
    "    print(f\"{i}:\")\n",
    "    print(\"---\" * 8)\n",
    "    print(antecedentes1[i].sum())"
   ]
  },
  {
   "cell_type": "code",
   "execution_count": 722,
   "id": "a153ff72-e40a-44ad-bdb6-9fbeb4e1f722",
   "metadata": {},
   "outputs": [
    {
     "name": "stdout",
     "output_type": "stream",
     "text": [
      "Antecedente más predominante para los pacientes que tienen 2 antecedentes.\n",
      "\n",
      "ANTECEDENTE_RESPIRATORIO:\n",
      "------------------------\n",
      "16\n",
      "ANTECEDENTE_CARDIOVASCULAR:\n",
      "------------------------\n",
      "5\n",
      "ANTECEDENTE_NEUROLOGICONO:\n",
      "------------------------\n",
      "2\n",
      "ANTECEDENTE_METABOLICO:\n",
      "------------------------\n",
      "3\n",
      "ANTECEDENTE_ONCOLOGICO:\n",
      "------------------------\n",
      "0\n",
      "ANTECEDENTE_GENETICO:\n",
      "------------------------\n",
      "4\n",
      "OTROS:\n",
      "------------------------\n",
      "12\n"
     ]
    }
   ],
   "source": [
    "print(\"Antecedente más predominante para los pacientes que tienen 2 antecedentes.\\n\")\n",
    "\n",
    "for i in antecedentes_col:\n",
    "    print(f\"{i}:\")\n",
    "    print(\"---\" * 8)\n",
    "    print(antecedentes2[i].sum())"
   ]
  },
  {
   "cell_type": "code",
   "execution_count": 723,
   "id": "8794a735-3f32-4220-80f8-d8da5b74d369",
   "metadata": {},
   "outputs": [
    {
     "name": "stdout",
     "output_type": "stream",
     "text": [
      "Antecedente más predominante para los pacientes que tienen 3 antecedentes.\n",
      "\n",
      "ANTECEDENTE_RESPIRATORIO:\n",
      "------------------------\n",
      "5\n",
      "ANTECEDENTE_CARDIOVASCULAR:\n",
      "------------------------\n",
      "4\n",
      "ANTECEDENTE_NEUROLOGICONO:\n",
      "------------------------\n",
      "1\n",
      "ANTECEDENTE_METABOLICO:\n",
      "------------------------\n",
      "4\n",
      "ANTECEDENTE_ONCOLOGICO:\n",
      "------------------------\n",
      "0\n",
      "ANTECEDENTE_GENETICO:\n",
      "------------------------\n",
      "1\n",
      "OTROS:\n",
      "------------------------\n",
      "5\n"
     ]
    }
   ],
   "source": [
    "print(\"Antecedente más predominante para los pacientes que tienen 3 antecedentes.\\n\")\n",
    "\n",
    "for i in antecedentes_col:\n",
    "    print(f\"{i}:\")\n",
    "    print(\"---\" * 8)\n",
    "    print(antecedentes3[i].sum())"
   ]
  },
  {
   "cell_type": "code",
   "execution_count": 724,
   "id": "58eb835a-28d4-4309-b9a3-989ce94fbf52",
   "metadata": {},
   "outputs": [
    {
     "name": "stdout",
     "output_type": "stream",
     "text": [
      "Antecedente más predominante para los pacientes que tienen 4 antecedentes.\n",
      "\n",
      "ANTECEDENTE_RESPIRATORIO:\n",
      "------------------------\n",
      "2\n",
      "ANTECEDENTE_CARDIOVASCULAR:\n",
      "------------------------\n",
      "2\n",
      "ANTECEDENTE_NEUROLOGICONO:\n",
      "------------------------\n",
      "0\n",
      "ANTECEDENTE_METABOLICO:\n",
      "------------------------\n",
      "1\n",
      "ANTECEDENTE_ONCOLOGICO:\n",
      "------------------------\n",
      "0\n",
      "ANTECEDENTE_GENETICO:\n",
      "------------------------\n",
      "2\n",
      "OTROS:\n",
      "------------------------\n",
      "1\n"
     ]
    }
   ],
   "source": [
    "print(\"Antecedente más predominante para los pacientes que tienen 4 antecedentes.\\n\")\n",
    "\n",
    "for i in antecedentes_col:\n",
    "    print(f\"{i}:\")\n",
    "    print(\"---\" * 8)\n",
    "    print(antecedentes4[i].sum())"
   ]
  },
  {
   "cell_type": "code",
   "execution_count": 725,
   "id": "7f8e737c-b22f-4d76-9384-a9622366f5f9",
   "metadata": {},
   "outputs": [
    {
     "name": "stdout",
     "output_type": "stream",
     "text": [
      "Antecedente más predominante para los pacientes que tienen 5 antecedentes.\n",
      "\n",
      "ANTECEDENTE_RESPIRATORIO:\n",
      "------------------------\n",
      "1\n",
      "ANTECEDENTE_CARDIOVASCULAR:\n",
      "------------------------\n",
      "1\n",
      "ANTECEDENTE_NEUROLOGICONO:\n",
      "------------------------\n",
      "1\n",
      "ANTECEDENTE_METABOLICO:\n",
      "------------------------\n",
      "1\n",
      "ANTECEDENTE_ONCOLOGICO:\n",
      "------------------------\n",
      "0\n",
      "ANTECEDENTE_GENETICO:\n",
      "------------------------\n",
      "0\n",
      "OTROS:\n",
      "------------------------\n",
      "0\n"
     ]
    }
   ],
   "source": [
    "print(\"Antecedente más predominante para los pacientes que tienen 5 antecedentes.\\n\")\n",
    "\n",
    "for i in antecedentes_col:\n",
    "    print(f\"{i}:\")\n",
    "    print(\"---\" * 8)\n",
    "    print(antecedentes5[i].sum())"
   ]
  },
  {
   "cell_type": "code",
   "execution_count": 726,
   "id": "37a4bedc-5550-4799-8428-39a6363943cb",
   "metadata": {},
   "outputs": [
    {
     "name": "stdout",
     "output_type": "stream",
     "text": [
      "Antecedente más predominante para los pacientes que tienen 6 antecedentes.\n",
      "\n",
      "ANTECEDENTE_RESPIRATORIO:\n",
      "------------------------\n",
      "2\n",
      "ANTECEDENTE_CARDIOVASCULAR:\n",
      "------------------------\n",
      "0\n",
      "ANTECEDENTE_NEUROLOGICONO:\n",
      "------------------------\n",
      "2\n",
      "ANTECEDENTE_METABOLICO:\n",
      "------------------------\n",
      "0\n",
      "ANTECEDENTE_ONCOLOGICO:\n",
      "------------------------\n",
      "0\n",
      "ANTECEDENTE_GENETICO:\n",
      "------------------------\n",
      "2\n",
      "OTROS:\n",
      "------------------------\n",
      "2\n"
     ]
    }
   ],
   "source": [
    "print(\"Antecedente más predominante para los pacientes que tienen 6 antecedentes.\\n\")\n",
    "\n",
    "for i in antecedentes_col:\n",
    "    print(f\"{i}:\")\n",
    "    print(\"---\" * 8)\n",
    "    print(antecedentes6[i].sum())"
   ]
  },
  {
   "cell_type": "code",
   "execution_count": 727,
   "id": "9efbad19-f962-4ab2-9b0c-0f9c4a5a1a0b",
   "metadata": {},
   "outputs": [
    {
     "name": "stdout",
     "output_type": "stream",
     "text": [
      "Antecedente más predominante para los pacientes que tienen 8 antecedentes.\n",
      "\n",
      "ANTECEDENTE_RESPIRATORIO:\n",
      "------------------------\n",
      "1\n",
      "ANTECEDENTE_CARDIOVASCULAR:\n",
      "------------------------\n",
      "1\n",
      "ANTECEDENTE_NEUROLOGICONO:\n",
      "------------------------\n",
      "1\n",
      "ANTECEDENTE_METABOLICO:\n",
      "------------------------\n",
      "1\n",
      "ANTECEDENTE_ONCOLOGICO:\n",
      "------------------------\n",
      "0\n",
      "ANTECEDENTE_GENETICO:\n",
      "------------------------\n",
      "1\n",
      "OTROS:\n",
      "------------------------\n",
      "1\n"
     ]
    }
   ],
   "source": [
    "print(\"Antecedente más predominante para los pacientes que tienen 8 antecedentes.\\n\")\n",
    "\n",
    "for i in antecedentes_col:\n",
    "    print(f\"{i}:\")\n",
    "    print(\"---\" * 8)\n",
    "    print(antecedentes8[i].sum())"
   ]
  },
  {
   "cell_type": "markdown",
   "id": "7f6f59c8-c877-4ee9-9b84-49b4fddcdb75",
   "metadata": {},
   "source": [
    "# 5- FACTORES DE RIESGO"
   ]
  },
  {
   "cell_type": "code",
   "execution_count": 728,
   "id": "00da092e-935b-4c4b-86ac-d389211da795",
   "metadata": {},
   "outputs": [
    {
     "name": "stdout",
     "output_type": "stream",
     "text": [
      "188 pacientes no tuvieron factores de riesgo. Esto representa el 59.31%.\n"
     ]
    }
   ],
   "source": [
    "top_antecedente = df_CI[\"FACTORES_RIESGO\"].value_counts().head(1)\n",
    "\n",
    "print(f\"188 pacientes no tuvieron factores de riesgo. Esto representa el {round(188 / df_CI.shape[0] * 100, 2)}%.\")"
   ]
  },
  {
   "cell_type": "code",
   "execution_count": 729,
   "id": "c52f14a4-820a-41dc-9461-0b8c4813b78d",
   "metadata": {},
   "outputs": [
    {
     "name": "stdout",
     "output_type": "stream",
     "text": [
      "88 pacientes con factores de riesgo '< 3 MESES'. Esto representa el 27.76%.\n"
     ]
    }
   ],
   "source": [
    "n_3meses = df_CI[df_CI[\"FACTORES_RIESGO\"].str.contains(\"MESES\", na = False)].shape[0]\n",
    "print(f\"88 pacientes con factores de riesgo '< 3 MESES'. Esto representa el {round(n_3meses / df_CI.shape[0] * 100, 2)}%.\")"
   ]
  },
  {
   "cell_type": "code",
   "execution_count": 730,
   "id": "bae9af0f-82a9-4b48-8118-726aff3bf090",
   "metadata": {},
   "outputs": [
    {
     "name": "stdout",
     "output_type": "stream",
     "text": [
      "Se muestra el top 5\n",
      "\n",
      "\n",
      "Nro de factores de riesgo (n):\n"
     ]
    },
    {
     "data": {
      "text/plain": [
       "NO                         188\n",
       "< 3 MESES                   77\n",
       "RNPT                        18\n",
       "BPEG                         9\n",
       "< 3 MESES - RNPT - BPEG      4\n",
       "Name: FACTORES_RIESGO, dtype: int64"
      ]
     },
     "metadata": {},
     "output_type": "display_data"
    },
    {
     "name": "stdout",
     "output_type": "stream",
     "text": [
      "\n",
      "\n",
      "Nro de factores de riesgo (%):\n"
     ]
    },
    {
     "data": {
      "text/plain": [
       "NO                         59.31\n",
       "< 3 MESES                  24.29\n",
       "RNPT                        5.68\n",
       "BPEG                        2.84\n",
       "< 3 MESES - RNPT - BPEG     1.26\n",
       "Name: FACTORES_RIESGO, dtype: float64"
      ]
     },
     "execution_count": 730,
     "metadata": {},
     "output_type": "execute_result"
    }
   ],
   "source": [
    "print(\"Se muestra el top 5\")\n",
    "print(\"\\n\")\n",
    "print(\"Nro de factores de riesgo (n):\")\n",
    "display(df_CI[\"FACTORES_RIESGO\"].value_counts().head())\n",
    "print(\"\\n\")\n",
    "print(\"Nro de factores de riesgo (%):\")\n",
    "round(df_CI[\"FACTORES_RIESGO\"].value_counts(normalize = True).head() * 100, 2)"
   ]
  },
  {
   "cell_type": "markdown",
   "id": "69070523-a11c-4113-b9f5-036c9cd68988",
   "metadata": {},
   "source": [
    "# 6- MORTALIDAD"
   ]
  },
  {
   "cell_type": "code",
   "execution_count": 731,
   "id": "196eb9be-f0ba-48a3-a140-aa7d5004e4bc",
   "metadata": {},
   "outputs": [
    {
     "name": "stdout",
     "output_type": "stream",
     "text": [
      "La mortalidad fue del 0%\n"
     ]
    }
   ],
   "source": [
    "df_CI[\"TIPO_EGRESO\"].value_counts()\n",
    "print(\"La mortalidad fue del 0%\")"
   ]
  },
  {
   "cell_type": "markdown",
   "id": "a232fd7a-b0a6-4465-ad85-e3b708d138d8",
   "metadata": {},
   "source": [
    "# 7- LOCACION DE EGRESO"
   ]
  },
  {
   "cell_type": "code",
   "execution_count": 732,
   "id": "bb71d472-051c-4c2e-9941-3b38f0502002",
   "metadata": {},
   "outputs": [
    {
     "name": "stdout",
     "output_type": "stream",
     "text": [
      "Distribución de las categorías por Locación de egreso:\n",
      "0: DOMICILIO\n",
      "1: MAYOR COMPLEJIDAD\n",
      "2: OTRA INSTITUCION\n",
      "\n",
      "\n"
     ]
    },
    {
     "data": {
      "text/plain": [
       "0    279\n",
       "1     37\n",
       "2      1\n",
       "Name: LOCACION_EGRESO, dtype: int64"
      ]
     },
     "metadata": {},
     "output_type": "display_data"
    },
    {
     "name": "stdout",
     "output_type": "stream",
     "text": [
      "------------------\n"
     ]
    },
    {
     "data": {
      "text/plain": [
       "0    88.01\n",
       "1    11.67\n",
       "2     0.32\n",
       "Name: LOCACION_EGRESO, dtype: float64"
      ]
     },
     "execution_count": 732,
     "metadata": {},
     "output_type": "execute_result"
    }
   ],
   "source": [
    "print(\"Distribución de las categorías por Locación de egreso:\")\n",
    "print(\"0: DOMICILIO\")\n",
    "print(\"1: MAYOR COMPLEJIDAD\")\n",
    "print(\"2: OTRA INSTITUCION\")\n",
    "\n",
    "print(\"\\n\")\n",
    "display(df_CI[\"LOCACION_EGRESO\"].value_counts())\n",
    "print(\"---------\" * 2)\n",
    "round(df_CI[\"LOCACION_EGRESO\"].value_counts(normalize = True) * 100, 2)"
   ]
  },
  {
   "cell_type": "markdown",
   "id": "8af2dc10-ee56-41d2-9dff-ea356c278039",
   "metadata": {},
   "source": [
    "# 8- REINTERNACIONES"
   ]
  },
  {
   "cell_type": "code",
   "execution_count": 733,
   "id": "5d40e56e-1f7c-4f18-85a8-1a766a20adee",
   "metadata": {},
   "outputs": [
    {
     "name": "stdout",
     "output_type": "stream",
     "text": [
      "Distribución de las categorías por número de reinternaciones:\n",
      "\n",
      "\n"
     ]
    },
    {
     "data": {
      "text/plain": [
       "0    264\n",
       "1     53\n",
       "Name: REINTERNACIONES, dtype: int64"
      ]
     },
     "metadata": {},
     "output_type": "display_data"
    },
    {
     "name": "stdout",
     "output_type": "stream",
     "text": [
      "------------------\n"
     ]
    },
    {
     "data": {
      "text/plain": [
       "0    83.28\n",
       "1    16.72\n",
       "Name: REINTERNACIONES, dtype: float64"
      ]
     },
     "execution_count": 733,
     "metadata": {},
     "output_type": "execute_result"
    }
   ],
   "source": [
    "print(\"Distribución de las categorías por número de reinternaciones:\")\n",
    "\n",
    "print(\"\\n\")\n",
    "display(df_CI[\"REINTERNACIONES\"].value_counts())\n",
    "print(\"---------\" * 2)\n",
    "round(df_CI[\"REINTERNACIONES\"].value_counts(normalize = True) * 100, 2)"
   ]
  },
  {
   "cell_type": "markdown",
   "id": "74528c5e-20b7-46de-934e-1aa6ccc51fb3",
   "metadata": {},
   "source": [
    "# 9- DIAS O2"
   ]
  },
  {
   "cell_type": "code",
   "execution_count": 734,
   "id": "3753fd5d-4d02-432a-89b2-3c7e45aa2b7f",
   "metadata": {},
   "outputs": [
    {
     "name": "stdout",
     "output_type": "stream",
     "text": [
      "Mediana de días de oxigenoterapia: 4.0\n",
      "Media de días de oxigenoterapia: 5.15\n"
     ]
    }
   ],
   "source": [
    "print(f\"Mediana de días de oxigenoterapia: {df_CI['DIAS_O2'].median()}\")\n",
    "print(f\"Media de días de oxigenoterapia: {round(df_CI['DIAS_O2'].mean(), 2)}\")"
   ]
  },
  {
   "cell_type": "markdown",
   "id": "ca249f28-fa13-4ee6-ac24-1ba5618c45ca",
   "metadata": {},
   "source": [
    "# 10- DIAS DE INTERNACION"
   ]
  },
  {
   "cell_type": "code",
   "execution_count": 735,
   "id": "f0fc34d4-e5e8-4977-a21f-e1f07ebc0247",
   "metadata": {},
   "outputs": [
    {
     "data": {
      "text/html": [
       "<div>\n",
       "<style scoped>\n",
       "    .dataframe tbody tr th:only-of-type {\n",
       "        vertical-align: middle;\n",
       "    }\n",
       "\n",
       "    .dataframe tbody tr th {\n",
       "        vertical-align: top;\n",
       "    }\n",
       "\n",
       "    .dataframe thead th {\n",
       "        text-align: right;\n",
       "    }\n",
       "</style>\n",
       "<table border=\"1\" class=\"dataframe\">\n",
       "  <thead>\n",
       "    <tr style=\"text-align: right;\">\n",
       "      <th></th>\n",
       "      <th>FECHA_INGRESO_H</th>\n",
       "      <th>FECHA_INGRESO_P</th>\n",
       "      <th>FECHA_ALTA_P</th>\n",
       "      <th>FECHA_ALTA_H</th>\n",
       "    </tr>\n",
       "  </thead>\n",
       "  <tbody>\n",
       "    <tr>\n",
       "      <th>2</th>\n",
       "      <td>21/06/2019</td>\n",
       "      <td>21/06/2019</td>\n",
       "      <td>26/06/2019</td>\n",
       "      <td>26/06/2019</td>\n",
       "    </tr>\n",
       "  </tbody>\n",
       "</table>\n",
       "</div>"
      ],
      "text/plain": [
       "  FECHA_INGRESO_H FECHA_INGRESO_P FECHA_ALTA_P FECHA_ALTA_H\n",
       "2      21/06/2019      21/06/2019   26/06/2019   26/06/2019"
      ]
     },
     "execution_count": 735,
     "metadata": {},
     "output_type": "execute_result"
    }
   ],
   "source": [
    "df_CI[[\"FECHA_INGRESO_H\", \"FECHA_INGRESO_P\", \"FECHA_ALTA_P\", \"FECHA_ALTA_H\"]].head(1)"
   ]
  },
  {
   "cell_type": "code",
   "execution_count": 736,
   "id": "2b643b33-de0a-4143-b034-5471317f7a60",
   "metadata": {},
   "outputs": [
    {
     "data": {
      "text/plain": [
       "FECHA_INGRESO_H    object\n",
       "FECHA_INGRESO_P    object\n",
       "FECHA_ALTA_P       object\n",
       "FECHA_ALTA_H       object\n",
       "dtype: object"
      ]
     },
     "execution_count": 736,
     "metadata": {},
     "output_type": "execute_result"
    }
   ],
   "source": [
    "df_CI[[\"FECHA_INGRESO_H\", \"FECHA_INGRESO_P\", \"FECHA_ALTA_P\", \"FECHA_ALTA_H\"]].dtypes"
   ]
  },
  {
   "cell_type": "code",
   "execution_count": 737,
   "id": "a8f84431-8198-41aa-908c-65b18168ef1e",
   "metadata": {},
   "outputs": [],
   "source": [
    "df_CI.loc[df_CI[\"FECHA_INGRESO_H\"] == \"88888\", \"FECHA_INGRESO_H\"] = np.nan\n",
    "df_CI.loc[df_CI[\"FECHA_ALTA_H\"] == \"88888\", \"FECHA_ALTA_H\"] = np.nan"
   ]
  },
  {
   "cell_type": "code",
   "execution_count": 738,
   "id": "ca36d55d-00cf-408c-afbd-ab357b1366fd",
   "metadata": {},
   "outputs": [],
   "source": [
    "df_CI[\"FECHA_INGRESO_H\"] = pd.to_datetime(df_CI[\"FECHA_INGRESO_H\"], infer_datetime_format = True)\n",
    "df_CI[\"FECHA_ALTA_H\"] = pd.to_datetime(df_CI[\"FECHA_ALTA_H\"], infer_datetime_format = True)"
   ]
  },
  {
   "cell_type": "code",
   "execution_count": 739,
   "id": "055ee1d0-d0ea-4032-ac42-db373f824fc2",
   "metadata": {},
   "outputs": [
    {
     "data": {
      "text/plain": [
       "FECHA_INGRESO_H    datetime64[ns]\n",
       "FECHA_INGRESO_P            object\n",
       "FECHA_ALTA_P               object\n",
       "FECHA_ALTA_H       datetime64[ns]\n",
       "dtype: object"
      ]
     },
     "execution_count": 739,
     "metadata": {},
     "output_type": "execute_result"
    }
   ],
   "source": [
    "df_CI[[\"FECHA_INGRESO_H\", \"FECHA_INGRESO_P\", \"FECHA_ALTA_P\", \"FECHA_ALTA_H\"]].dtypes"
   ]
  },
  {
   "cell_type": "code",
   "execution_count": 740,
   "id": "0f0ad43e-eefa-4dfc-b2fd-39d24a444236",
   "metadata": {},
   "outputs": [],
   "source": [
    "df_CI[\"DIAS_ESTADIA_H\"] = df_CI[\"FECHA_ALTA_H\"] - df_CI[\"FECHA_INGRESO_H\"]"
   ]
  },
  {
   "cell_type": "code",
   "execution_count": 741,
   "id": "02d4d8fb-7fd6-42b3-8213-2a32734da5c0",
   "metadata": {},
   "outputs": [
    {
     "data": {
      "text/html": [
       "<div>\n",
       "<style scoped>\n",
       "    .dataframe tbody tr th:only-of-type {\n",
       "        vertical-align: middle;\n",
       "    }\n",
       "\n",
       "    .dataframe tbody tr th {\n",
       "        vertical-align: top;\n",
       "    }\n",
       "\n",
       "    .dataframe thead th {\n",
       "        text-align: right;\n",
       "    }\n",
       "</style>\n",
       "<table border=\"1\" class=\"dataframe\">\n",
       "  <thead>\n",
       "    <tr style=\"text-align: right;\">\n",
       "      <th></th>\n",
       "      <th>-</th>\n",
       "      <th>NOMBRE</th>\n",
       "      <th>EDAD</th>\n",
       "      <th>HC</th>\n",
       "      <th>GENERO</th>\n",
       "      <th>DIAGNOSTICO</th>\n",
       "      <th>CODIGO_DIAGNOSTICO</th>\n",
       "      <th>ANTECEDENTES</th>\n",
       "      <th>NUMERO_ANTECEDENTES</th>\n",
       "      <th>ANTECEDENTE_RESPIRATORIO</th>\n",
       "      <th>...</th>\n",
       "      <th>NIVEL EDUCATIVO MADRE</th>\n",
       "      <th>NIVEL EDUCATIVO PADRE                                  (SI NO HAY PADRE COLOCAR 99999)</th>\n",
       "      <th>OCUPACION MADRE</th>\n",
       "      <th>OCUPACION PADRE                       (SI NO HAY PADRE COLOCAR 99999)</th>\n",
       "      <th>MADRE O PADRE TBQ 0: NO / 1: SI</th>\n",
       "      <th>AMBIENTE EPIDEMIOLÓGICO   0: NO / 1: SI</th>\n",
       "      <th>CUAL?</th>\n",
       "      <th>OBSERVACIONES</th>\n",
       "      <th>Unnamed: 51</th>\n",
       "      <th>DIAS_ESTADIA_H</th>\n",
       "    </tr>\n",
       "  </thead>\n",
       "  <tbody>\n",
       "  </tbody>\n",
       "</table>\n",
       "<p>0 rows × 53 columns</p>\n",
       "</div>"
      ],
      "text/plain": [
       "Empty DataFrame\n",
       "Columns: [-, NOMBRE, EDAD, HC, GENERO, DIAGNOSTICO, CODIGO_DIAGNOSTICO, ANTECEDENTES, NUMERO_ANTECEDENTES, ANTECEDENTE_RESPIRATORIO, ANTECEDENTE_CARDIOVASCULAR, ANTECEDENTE_NEUROLOGICONO, ANTECEDENTE_METABOLICO, ANTECEDENTE_ONCOLOGICO, ANTECEDENTE_GENETICO, OTROS, FACTORES_RIESGO, CANTIDAD FACTORES DE RIESGO, < 3 MESES NO: 0 / SI: 1, RNPT       NO: 0 / SI: 1, BPEG       NO: 0 / SI: 1, DESNUTRIDO            NO: 0 / SI: 1, CARDIOPATA     NO: 0 / SI: 1, TAL AL INGRESO HOSPITALARIO, VACUNAS                                            0: INCOMPLETAS 1: COMPLETAS, NEUMOCOCO COMPLETO                   0: NO / 1: SI, FECHA_INGRESO_H, FECHA_INGRESO_P, FECHA_ALTA_P, ATELECTASIA                   NO: 0 / SI: 1, TIPO_EGRESO, LOCACION_EGRESO, VMi, FECHA_ALTA_H, DIAS_O2, REINTERNACIONES, NUMERO DE          RE-INTERNACIONES, Unnamed: 37, Unnamed: 38, Unnamed: 39, FECHA            INGRESO                    REINTERNACION, FECHA            EGRESO                    REINTERNACION, EDAD MATERNA, NIVEL EDUCATIVO MADRE, NIVEL EDUCATIVO PADRE                                  (SI NO HAY PADRE COLOCAR 99999), OCUPACION MADRE, OCUPACION PADRE                       (SI NO HAY PADRE COLOCAR 99999), MADRE O PADRE TBQ 0: NO / 1: SI, AMBIENTE EPIDEMIOLÓGICO   0: NO / 1: SI, CUAL?, OBSERVACIONES, Unnamed: 51, DIAS_ESTADIA_H]\n",
       "Index: []\n",
       "\n",
       "[0 rows x 53 columns]"
      ]
     },
     "execution_count": 741,
     "metadata": {},
     "output_type": "execute_result"
    }
   ],
   "source": [
    "df_CI[df_CI[\"DIAS_ESTADIA_H\"] < pd.Timedelta(0)]"
   ]
  },
  {
   "cell_type": "code",
   "execution_count": 742,
   "id": "19f405f5-7e41-40c3-b98c-9596fd404d5a",
   "metadata": {},
   "outputs": [
    {
     "name": "stdout",
     "output_type": "stream",
     "text": [
      "La mediana de días de internación fue de 6 days 00:00:00 días.\n"
     ]
    }
   ],
   "source": [
    "print(f\"La mediana de días de internación fue de {df_CI['DIAS_ESTADIA_H'].median()} días.\")"
   ]
  },
  {
   "cell_type": "code",
   "execution_count": null,
   "id": "a008750f-dc99-4337-bb59-8aa596c05210",
   "metadata": {},
   "outputs": [],
   "source": []
  }
 ],
 "metadata": {
  "kernelspec": {
   "display_name": "Python 3 (ipykernel)",
   "language": "python",
   "name": "python3"
  },
  "language_info": {
   "codemirror_mode": {
    "name": "ipython",
    "version": 3
   },
   "file_extension": ".py",
   "mimetype": "text/x-python",
   "name": "python",
   "nbconvert_exporter": "python",
   "pygments_lexer": "ipython3",
   "version": "3.9.13"
  }
 },
 "nbformat": 4,
 "nbformat_minor": 5
}
